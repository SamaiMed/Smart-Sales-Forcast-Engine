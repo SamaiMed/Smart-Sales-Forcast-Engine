{
 "cells": [
  {
   "cell_type": "code",
   "execution_count": 17,
   "metadata": {
    "collapsed": true
   },
   "outputs": [],
   "source": [
    "import numpy as np\n",
    "import tensorflow as tf\n",
    "from string import punctuation\n",
    "from collections import Counter\n",
    "import collections"
   ]
  },
  {
   "cell_type": "code",
   "execution_count": 18,
   "metadata": {
    "collapsed": true
   },
   "outputs": [],
   "source": [
    "with open('rev_3.txt', 'r') as f:\n",
    "    reviews = f.read()\n",
    "with open('lab.txt', 'r') as f:\n",
    "    labels_org = f.read()"
   ]
  },
  {
   "cell_type": "code",
   "execution_count": 19,
   "metadata": {
    "collapsed": true
   },
   "outputs": [],
   "source": [
    "all_text = ''.join([c for c in reviews if c not in punctuation])\n",
    "reviews = all_text.split('\\n')\n",
    "all_text = ' '.join(reviews)\n",
    "words = all_text.split()"
   ]
  },
  {
   "cell_type": "code",
   "execution_count": null,
   "metadata": {
    "collapsed": true,
    "scrolled": true
   },
   "outputs": [],
   "source": []
  },
  {
   "cell_type": "code",
   "execution_count": 20,
   "metadata": {},
   "outputs": [
    {
     "data": {
      "text/plain": [
       "\"\\ncounts = Counter(words).most_common(2000 - 1)\\nvocab = sorted(counts, key=counts.get, reverse=True)\\nvocab_to_int = {word: ii for ii, word in enumerate(vocab, 1)}\\nint_to_vocab=dict(zip(vocab_to_int.values(),vocab_to_int.keys()))\\nint_to_vocab[0]='UNK'\\nreviews_ints = []\\nfor each in reviews:\\n    reviews_ints.append([vocab_to_int[word] for word in each.split()])\\n\""
      ]
     },
     "execution_count": 20,
     "metadata": {},
     "output_type": "execute_result"
    }
   ],
   "source": [
    "\"\"\"\n",
    "counts = Counter(words).most_common(2000 - 1)\n",
    "vocab = sorted(counts, key=counts.get, reverse=True)\n",
    "vocab_to_int = {word: ii for ii, word in enumerate(vocab, 1)}\n",
    "int_to_vocab=dict(zip(vocab_to_int.values(),vocab_to_int.keys()))\n",
    "int_to_vocab[0]='UNK'\n",
    "reviews_ints = []\n",
    "for each in reviews:\n",
    "    reviews_ints.append([vocab_to_int[word] for word in each.split()])\n",
    "\"\"\""
   ]
  },
  {
   "cell_type": "code",
   "execution_count": null,
   "metadata": {
    "collapsed": true
   },
   "outputs": [],
   "source": []
  },
  {
   "cell_type": "code",
   "execution_count": 21,
   "metadata": {},
   "outputs": [
    {
     "data": {
      "text/plain": [
       "[[312, 0, 5, 11, 391, 12, 20, 46, 392, 140, 65, 0, 4, 393, 24],\n",
       " [5, 0, 0, 313, 82, 211, 0],\n",
       " [5, 0, 394, 0, 92, 0, 0, 4, 314, 6],\n",
       " [188, 212, 213],\n",
       " [5, 246, 189, 395, 5, 246, 189],\n",
       " [0, 58, 3, 5, 0, 11, 3, 0, 0, 0, 0, 315, 0, 0, 13, 0, 11, 0, 0],\n",
       " [5, 190, 0, 3, 0, 30, 0, 0, 22, 0, 214],\n",
       " [5, 190, 4, 0, 3, 0, 214, 22, 3, 0, 9, 0],\n",
       " [0, 0, 113, 55, 5, 0, 0, 93],\n",
       " [5, 53, 0, 0, 164, 8, 165, 0, 0, 0]]"
      ]
     },
     "execution_count": 21,
     "metadata": {},
     "output_type": "execute_result"
    }
   ],
   "source": [
    "vocabulary_size = 400\n",
    "def build_dataset(words, n_words):\n",
    "    count = [['UNK', -1]]\n",
    "    count.extend(collections.Counter(words).most_common(n_words - 1))\n",
    "    dictionary = dict()\n",
    "    i=0\n",
    "    for word, _ in count:\n",
    "        dictionary[word] = len(dictionary)\n",
    "    data = list()\n",
    "    unk_count = 0\n",
    "    for word in words:\n",
    "        index = dictionary.get(word, 0)\n",
    "        if index == 0:  # dictionary['UNK']\n",
    "            unk_count += 1\n",
    "        data.append(index)\n",
    "    count[0][1] = unk_count\n",
    "    reversed_dictionary = dict(zip(dictionary.values(), dictionary.keys()))\n",
    "    return data, count, dictionary, reversed_dictionary\n",
    "\n",
    "data, count, vocab_to_int, int_to_vocab = build_dataset(words,\n",
    "                                                            vocabulary_size)\n",
    "reviews_ints=[]\n",
    "for each in reviews:\n",
    "    reviews_ints.append([vocab_to_int.get(word,0) for word in each.split()])\n",
    "reviews_ints[0:10]"
   ]
  },
  {
   "cell_type": "code",
   "execution_count": 22,
   "metadata": {
    "collapsed": true
   },
   "outputs": [],
   "source": [
    "import pickle\n",
    "pickle_out = open(\"vocab_to_int.pickle\",\"wb\")\n",
    "pickle.dump(vocab_to_int, pickle_out)\n",
    "pickle_out.close()"
   ]
  },
  {
   "cell_type": "code",
   "execution_count": 6,
   "metadata": {},
   "outputs": [
    {
     "name": "stdout",
     "output_type": "stream",
     "text": [
      "1000\n",
      "[ 1.  1.  1.  1.  1. -1.  1.  1.  1.  1.]\n"
     ]
    }
   ],
   "source": [
    "#labels = np.array([1 if l == \"positive\" else 0 for l in labels_org.split()])\n",
    "labels = np.array([int(_)  for _ in labels_org.split()]).astype(np.float32)\n",
    "print(len(labels))\n",
    "print(labels[:10])"
   ]
  },
  {
   "cell_type": "code",
   "execution_count": 7,
   "metadata": {},
   "outputs": [
    {
     "name": "stdout",
     "output_type": "stream",
     "text": [
      "Zero-length reviews: 2\n",
      "Maximum review length: 30\n"
     ]
    }
   ],
   "source": [
    "A=[len(x) for x in reviews_ints]\n",
    "review_lens = Counter(A)\n",
    "print(\"Zero-length reviews: {}\".format(review_lens[0]))\n",
    "print(\"Maximum review length: {}\".format(max(review_lens)))"
   ]
  },
  {
   "cell_type": "code",
   "execution_count": 8,
   "metadata": {},
   "outputs": [
    {
     "name": "stdout",
     "output_type": "stream",
     "text": [
      "1000 [312, 0, 5, 11, 391, 12, 20, 46, 392, 140, 65, 0, 4, 393, 24]\n",
      "Zero-length reviews: 0\n",
      "Maximum review length: 30\n"
     ]
    }
   ],
   "source": [
    "reviews_ints = [r[0:30] for r in reviews_ints if len(r) > 0]\n",
    "print(len(reviews_ints),reviews_ints[0])\n",
    "review_lens = Counter([len(x) for x in reviews_ints])\n",
    "print(\"Zero-length reviews: {}\".format(review_lens[0]))\n",
    "print(\"Maximum review length: {}\".format(max(review_lens)))"
   ]
  },
  {
   "cell_type": "code",
   "execution_count": 9,
   "metadata": {},
   "outputs": [
    {
     "data": {
      "text/plain": [
       "array([  0,   0,   0,   0,   0,   0,   0,   0,   0,   0,   0,   0,   0,\n",
       "         0,   0, 312,   0,   5,  11, 391,  12,  20,  46, 392, 140,  65,\n",
       "         0,   4, 393,  24])"
      ]
     },
     "execution_count": 9,
     "metadata": {},
     "output_type": "execute_result"
    }
   ],
   "source": [
    "seq_len = 30\n",
    "features = np.zeros((len(reviews_ints), seq_len), dtype=int)\n",
    "for i, row in enumerate(reviews_ints):\n",
    "    features[i, -len(row):] = np.array(row)[:seq_len]\n",
    "features[0,:]"
   ]
  },
  {
   "cell_type": "code",
   "execution_count": 23,
   "metadata": {},
   "outputs": [
    {
     "name": "stdout",
     "output_type": "stream",
     "text": [
      "['UNK', 'UNK', 'UNK', 'UNK', 'UNK', 'UNK', 'UNK', 'UNK', 'UNK', 'UNK', 'UNK', 'UNK', 'UNK', 'UNK', 'UNK', 'Which', 'UNK', 'BMW', 'is', 'right', 'for', 'you', 'We', 'test', 'them', 'all', 'UNK', 'to', 'find', 'out']\n"
     ]
    }
   ],
   "source": [
    "T=[int_to_vocab.get(features[0,i],'UNK') for i in range(30)]\n",
    "print(T)\n",
    "del T"
   ]
  },
  {
   "cell_type": "code",
   "execution_count": 24,
   "metadata": {},
   "outputs": [
    {
     "name": "stdout",
     "output_type": "stream",
     "text": [
      "\t\t\tFeature Shapes:\n",
      "Train set: \t\t(800, 30) \n",
      "Validation set: \t(100, 30) \n",
      "Test set: \t\t(100, 30)\n",
      "label set: \t\t(800,) \n",
      "Validation label set: \t(100,) \n",
      "Test label set: \t\t(100,)\n"
     ]
    }
   ],
   "source": [
    "from sklearn.model_selection import train_test_split\n",
    "\n",
    "train_x,XX,train_y,YY=train_test_split(features,labels,test_size=0.2)\n",
    "val_x, test_x,val_y, test_y=train_test_split(XX,YY,test_size=0.5)\n",
    "\n",
    "print(\"\\t\\t\\tFeature Shapes:\")\n",
    "print(\"Train set: \\t\\t{}\".format(train_x.shape), \n",
    "      \"\\nValidation set: \\t{}\".format(val_x.shape),\n",
    "      \"\\nTest set: \\t\\t{}\".format(test_x.shape))\n",
    "print(\"label set: \\t\\t{}\".format(train_y.shape), \n",
    "      \"\\nValidation label set: \\t{}\".format(val_y.shape),\n",
    "      \"\\nTest label set: \\t\\t{}\".format(test_y.shape))"
   ]
  },
  {
   "cell_type": "code",
   "execution_count": 31,
   "metadata": {},
   "outputs": [
    {
     "data": {
      "text/plain": [
       "array([[  0,   0,   0, ...,   0,   0,   0],\n",
       "       [  0,   0,   0, ...,   1,   0, 320],\n",
       "       [  0,   0,   0, ...,   8, 258, 320],\n",
       "       ..., \n",
       "       [  0,   0,   0, ...,   6,   0, 320],\n",
       "       [  0,   0,   0, ...,   0,   0,   0],\n",
       "       [  0,   0, 199, ...,   0,   0,   0]])"
      ]
     },
     "execution_count": 31,
     "metadata": {},
     "output_type": "execute_result"
    }
   ],
   "source": []
  },
  {
   "cell_type": "code",
   "execution_count": 12,
   "metadata": {},
   "outputs": [
    {
     "name": "stdout",
     "output_type": "stream",
     "text": [
      "400\n"
     ]
    }
   ],
   "source": [
    "lstm_size = 25\n",
    "lstm_layers = 1\n",
    "batch_size = 50\n",
    "learning_rate = 0.001\n",
    "embed_size = 30 \n",
    "n_words = len(vocab_to_int) #+ 1 # Add 1 for 0 added to vocab\n",
    "print(n_words)"
   ]
  },
  {
   "cell_type": "code",
   "execution_count": 13,
   "metadata": {
    "collapsed": true
   },
   "outputs": [],
   "source": [
    "# Create the graph object\n",
    "tf.reset_default_graph()\n",
    "with tf.name_scope('inputs'):\n",
    "    inputs_ = tf.placeholder(tf.int32, [None, 30], name=\"inputs\")\n",
    "    labels_ = tf.placeholder(tf.float32, [None,], name=\"labels\")\n",
    "    keep_prob = tf.placeholder(tf.float32, name=\"keep_prob\")\n",
    "with tf.name_scope(\"Embeddings\"):\n",
    "    embedding = tf.Variable(tf.random_uniform((n_words, embed_size), -1, 1))\n",
    "    embed = tf.nn.embedding_lookup(embedding, inputs_)"
   ]
  },
  {
   "cell_type": "code",
   "execution_count": 14,
   "metadata": {
    "collapsed": true
   },
   "outputs": [],
   "source": [
    "\n",
    "def lstm_cell():\n",
    "    #lstm = tf.contrib.rnn.BasicLSTMCell(lstm_size, reuse=tf.get_variable_scope().reuse)\n",
    "    lstm=tf.contrib.rnn.BasicRNNCell(num_units=lstm_size,reuse=tf.get_variable_scope().reuse)\n",
    "    return tf.contrib.rnn.DropoutWrapper(lstm, output_keep_prob=keep_prob)\n",
    "with tf.name_scope(\"RNN_layers\"):\n",
    "    cell = tf.contrib.rnn.MultiRNNCell([lstm_cell() for _ in range(lstm_layers)])\n",
    "    initial_state = cell.zero_state(batch_size, tf.float32) \n",
    "    \n",
    "with tf.name_scope(\"RNN_forward\"):\n",
    "    outputs, final_state = tf.nn.dynamic_rnn(cell, embed, initial_state=initial_state)  \n",
    "    \n",
    "with tf.name_scope('predictions'):\n",
    "    predictions = tf.contrib.layers.fully_connected(outputs[:, -1], 1, activation_fn=None)\n",
    "    \n",
    "with tf.name_scope('cost'):\n",
    "    #cost = tf.losses.mean_squared_error(labels_, predictions)\n",
    "    #cost = tf.reduce_mean(tf.nn.sparse_softmax_cross_entropy_with_logits(labels=labels_,logits=predictions))\n",
    "    cost=tf.reduce_mean(tf.squared_difference(labels_,predictions))\n",
    "with tf.name_scope('train'):\n",
    "    optimizer = tf.train.AdamOptimizer(learning_rate).minimize(cost)\n",
    "    \n",
    "with tf.name_scope('validation'):\n",
    "    #correct_pred = tf.equal(tf.cast(tf.round(predictions), tf.int32), labels_)\n",
    "    #accuracy = tf.reduce_mean(tf.cast(correct_pred, tf.float32))\n",
    "    #correct = tf.nn.in_top_k(predictions,labels_ , 1)\n",
    "    #accuracy = tf.reduce_mean(tf.cast(correct, tf.float32))\n",
    "    total_error = tf.reduce_sum(tf.square(labels_ - tf.reduce_mean(labels_)))\n",
    "    unexplained_error = tf.reduce_sum(tf.square(labels_ - predictions))\n",
    "    accuracy = 1- tf.div(total_error, unexplained_error)\n",
    "    \n",
    "tf.summary.histogram('predictions', predictions)\n",
    "tf.summary.scalar('cost', cost)\n",
    "merged = tf.summary.merge_all()"
   ]
  },
  {
   "cell_type": "code",
   "execution_count": 15,
   "metadata": {
    "collapsed": true
   },
   "outputs": [],
   "source": [
    "def get_batches(x, y, batch_size=100):\n",
    "    n_batches = len(x)//batch_size\n",
    "    x, y = x[:n_batches*batch_size], y[:n_batches*batch_size]\n",
    "    for ii in range(0, len(x), batch_size):\n",
    "        yield x[ii:ii+batch_size], y[ii:ii+batch_size]"
   ]
  },
  {
   "cell_type": "code",
   "execution_count": 16,
   "metadata": {
    "scrolled": false
   },
   "outputs": [
    {
     "name": "stdout",
     "output_type": "stream",
     "text": [
      "Epoch: 0/10 Iteration: 10 Train loss: 0.879\n",
      "Val acc: 0.986\n",
      "Epoch: 1/10 Iteration: 20 Train loss: 0.765\n",
      "Val acc: 0.986\n",
      "Epoch: 1/10 Iteration: 30 Train loss: 0.586\n",
      "Val acc: 0.984\n",
      "Epoch: 2/10 Iteration: 40 Train loss: 0.701\n",
      "Val acc: 0.983\n",
      "Epoch: 3/10 Iteration: 50 Train loss: 0.693\n",
      "Val acc: 0.982\n",
      "Epoch: 3/10 Iteration: 60 Train loss: 0.674\n",
      "Val acc: 0.982\n",
      "Epoch: 4/10 Iteration: 70 Train loss: 0.819\n",
      "Val acc: 0.982\n",
      "Epoch: 4/10 Iteration: 80 Train loss: 0.768\n",
      "Val acc: 0.982\n",
      "Epoch: 5/10 Iteration: 90 Train loss: 0.721\n",
      "Val acc: 0.981\n",
      "Epoch: 6/10 Iteration: 100 Train loss: 0.627\n",
      "Val acc: 0.981\n",
      "Epoch: 6/10 Iteration: 110 Train loss: 0.484\n",
      "Val acc: 0.981\n",
      "Epoch: 7/10 Iteration: 120 Train loss: 0.549\n",
      "Val acc: 0.981\n",
      "Epoch: 8/10 Iteration: 130 Train loss: 0.654\n",
      "Val acc: 0.981\n",
      "Epoch: 8/10 Iteration: 140 Train loss: 0.628\n",
      "Val acc: 0.981\n",
      "Epoch: 9/10 Iteration: 150 Train loss: 0.793\n",
      "Val acc: 0.981\n",
      "Epoch: 9/10 Iteration: 160 Train loss: 0.741\n",
      "Val acc: 0.981\n"
     ]
    }
   ],
   "source": [
    "epochs = 10\n",
    "saver = tf.train.Saver()\n",
    "with tf.Session() as sess:\n",
    "    sess.run(tf.global_variables_initializer())\n",
    "    #saver.restore(sess, \"checkpoints/sentiment_2.ckpt\")\n",
    "    train_writer = tf.summary.FileWriter('train_I_II', sess.graph)\n",
    "    test_writer = tf.summary.FileWriter('test_I_II', sess.graph)\n",
    "    iteration = 1\n",
    "    for e in range(epochs):\n",
    "        state = sess.run(initial_state)\n",
    "        for ii, (x, y) in enumerate(get_batches(train_x, train_y, batch_size), 1):\n",
    "            feed = {inputs_: x,\n",
    "                    labels_: np.array(y[:, None]).reshape(-1),\n",
    "                    keep_prob: 1,\n",
    "                    initial_state: state}\n",
    "            summary, loss, state, _ = sess.run([merged, cost, final_state, optimizer], feed_dict=feed)\n",
    "#            loss, state, _ = sess.run([cost, final_state, optimizer], feed_dict=feed)\n",
    "\n",
    "            train_writer.add_summary(summary, iteration)\n",
    "        \n",
    "            if iteration%10==0:\n",
    "                print(\"Epoch: {}/{}\".format(e, epochs),\n",
    "                      \"Iteration: {}\".format(iteration),\n",
    "                      \"Train loss: {:.3f}\".format(loss))\n",
    "\n",
    "            if iteration%10==0:\n",
    "                val_acc = []\n",
    "                val_state = sess.run(cell.zero_state(batch_size, tf.float32))\n",
    "                for x, y in get_batches(val_x, val_y, batch_size):\n",
    "                    feed = {inputs_: x,\n",
    "                            labels_: np.array(y[:, None]).reshape(-1),\n",
    "                            keep_prob: 1,\n",
    "                            initial_state: val_state}\n",
    "                    batch_acc, val_state = sess.run([accuracy, final_state], feed_dict=feed)\n",
    "                    summary, batch_acc, val_state = sess.run([merged, accuracy, final_state], feed_dict=feed)\n",
    "                    val_acc.append(batch_acc)\n",
    "                print(\"Val acc: {:.3f}\".format(np.mean(val_acc)))\n",
    "            iteration +=1\n",
    "            test_writer.add_summary(summary, iteration)\n",
    "            saver.save(sess, \"checkpoints/sentiment.ckpt\")\n",
    "    saver.save(sess, \"checkpoints/sentiment_final_RNN.ckpt\")"
   ]
  },
  {
   "cell_type": "code",
   "execution_count": null,
   "metadata": {
    "collapsed": true
   },
   "outputs": [],
   "source": []
  },
  {
   "cell_type": "code",
   "execution_count": 209,
   "metadata": {},
   "outputs": [
    {
     "name": "stdout",
     "output_type": "stream",
     "text": [
      "INFO:tensorflow:Restoring parameters from checkpoints/sentiment.ckpt\n",
      "Test accuracy: 0.981\n"
     ]
    }
   ],
   "source": [
    "test_acc = []\n",
    "with tf.Session() as sess:\n",
    "    saver.restore(sess, \"checkpoints/sentiment.ckpt\")\n",
    "    test_state = sess.run(cell.zero_state(batch_size, tf.float32))\n",
    "    \n",
    "    for ii, (x, y) in enumerate(get_batches(test_x, test_y, batch_size), 1):\n",
    "        feed = {inputs_: x,\n",
    "                labels_: np.array(y[:, None]).reshape(-1),\n",
    "                keep_prob: 1,\n",
    "                initial_state: test_state}\n",
    "        batch_acc, test_state = sess.run([accuracy, final_state], feed_dict=feed)\n",
    "        test_acc.append(batch_acc)\n",
    "    print(\"Test accuracy: {:.3f}\".format(np.mean(test_acc)))"
   ]
  },
  {
   "cell_type": "code",
   "execution_count": null,
   "metadata": {
    "collapsed": true
   },
   "outputs": [],
   "source": []
  },
  {
   "cell_type": "code",
   "execution_count": null,
   "metadata": {
    "collapsed": true
   },
   "outputs": [],
   "source": []
  }
 ],
 "metadata": {
  "kernelspec": {
   "display_name": "Python 3",
   "language": "python",
   "name": "python3"
  },
  "language_info": {
   "codemirror_mode": {
    "name": "ipython",
    "version": 3
   },
   "file_extension": ".py",
   "mimetype": "text/x-python",
   "name": "python",
   "nbconvert_exporter": "python",
   "pygments_lexer": "ipython3",
   "version": "3.5.4"
  }
 },
 "nbformat": 4,
 "nbformat_minor": 2
}
